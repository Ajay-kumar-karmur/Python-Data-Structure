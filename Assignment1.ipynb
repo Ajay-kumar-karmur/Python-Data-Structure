{
 "cells": [
  {
   "cell_type": "code",
   "execution_count": 5,
   "id": "223d6bab-b580-4b5f-9a3a-11956556acb5",
   "metadata": {},
   "outputs": [
    {
     "data": {
      "text/plain": [
       "'yaja'"
      ]
     },
     "execution_count": 5,
     "metadata": {},
     "output_type": "execute_result"
    }
   ],
   "source": [
    "#write a code to reverse string\n",
    "\n",
    "str=\"ajay\"\n",
    "str[::-1]"
   ]
  },
  {
   "cell_type": "code",
   "execution_count": 16,
   "id": "90c852b0-26ff-41af-a831-a1570da89e37",
   "metadata": {},
   "outputs": [
    {
     "name": "stdout",
     "output_type": "stream",
     "text": [
      "2\n"
     ]
    }
   ],
   "source": [
    "#Write ba code to count the number of vovewl in the strings\n",
    "str = 'ajay'\n",
    "count = 0\n",
    "for i in str:\n",
    "    if i.lower() in \"aeiou\":\n",
    "        count += 1\n",
    "print(count)"
   ]
  },
  {
   "cell_type": "code",
   "execution_count": 31,
   "id": "6ca6847c-1a8b-4b64-a7a2-95b16c75b77b",
   "metadata": {},
   "outputs": [
    {
     "name": "stdout",
     "output_type": "stream",
     "text": [
      "Yes, it is a palindrome.\n"
     ]
    }
   ],
   "source": [
    "#check whether the string is palindrone or not\n",
    "str = \"racecar\"\n",
    "if str == str[::-1]:\n",
    "    print(\"Yes, it is a palindrome.\")\n",
    "else:\n",
    "    print(\"No, it is not a palindrome.\")"
   ]
  },
  {
   "cell_type": "code",
   "execution_count": 32,
   "id": "b275f7ee-496a-40d9-81cc-277a1d322f7d",
   "metadata": {},
   "outputs": [
    {
     "name": "stdout",
     "output_type": "stream",
     "text": [
      "No, they are not anagrams.\n"
     ]
    }
   ],
   "source": [
    "#string anagrame to each other\n",
    "str1 = \"listen\"\n",
    "str2 = \"ajayay\"\n",
    "if len(str1) != len(str2):\n",
    "    print(\"No, they are not anagrams.\")\n",
    "else:\n",
    "    if sorted(str1) == sorted(str2):\n",
    "        print(\"Yes, they are anagrams.\")\n",
    "    else:\n",
    "        print(\"No, they are not anagrams.\")"
   ]
  },
  {
   "cell_type": "code",
   "execution_count": 37,
   "id": "3467bde2-9375-4c13-8820-9aae33bfa2ca",
   "metadata": {},
   "outputs": [
    {
     "name": "stdout",
     "output_type": "stream",
     "text": [
      "Number of occurrences: 2\n"
     ]
    }
   ],
   "source": [
    "#occurence of given substring within other string\n",
    "main_string = \"hello , my self ajay hello\"\n",
    "substring = \"hello\"\n",
    "count = 0\n",
    "for i in range(len(main_string) - len(substring) + 1):\n",
    "    if main_string[i:i+len(substring)] == substring:\n",
    "        count += 1\n",
    "print(\"Number of occurrences:\", count)\n"
   ]
  },
  {
   "cell_type": "code",
   "execution_count": 38,
   "id": "c905bdde-cbb7-47ee-a80a-18baf7fb2f5d",
   "metadata": {},
   "outputs": [
    {
     "name": "stdout",
     "output_type": "stream",
     "text": [
      "{'e': 1, 'h': 1, 'o': 1, 'l': 2}\n"
     ]
    }
   ],
   "source": [
    "#basic string comprehension using the count of repeated character\n",
    "s = \"hello\"\n",
    "counts = {char: s.count(char) for char in set(s)}\n",
    "print(counts)\n"
   ]
  },
  {
   "cell_type": "code",
   "execution_count": 40,
   "id": "d5c9bd74-ad1f-4e9a-adde-b2c863fb4834",
   "metadata": {},
   "outputs": [
    {
     "name": "stdout",
     "output_type": "stream",
     "text": [
      "String does not have all unique characters.\n"
     ]
    }
   ],
   "source": [
    "#string containing all the uniq character\n",
    "s = \"abcae\"\n",
    "for i in range(len(s)):\n",
    "    if s[i+1:].find(s[i]) != -1:\n",
    "        print(\"String does not have all unique characters.\")\n",
    "        break\n",
    "else:\n",
    "    print(\"String has all unique characters.\")\n"
   ]
  },
  {
   "cell_type": "code",
   "execution_count": 42,
   "id": "58b6f60b-5e66-4ce3-9309-730dd17c7868",
   "metadata": {},
   "outputs": [
    {
     "name": "stdout",
     "output_type": "stream",
     "text": [
      "Uppercase: HELLO WORLD\n",
      "Lowercase: hello world\n"
     ]
    }
   ],
   "source": [
    "#converte given string to uper or lower\n",
    "# Define the string\n",
    "s = \"Hello World\"\n",
    "upper_case = s.upper()\n",
    "print(\"Uppercase:\", upper_case)\n",
    "\n",
    "lower_case = s.lower()\n",
    "print(\"Lowercase:\", lower_case)\n"
   ]
  },
  {
   "cell_type": "code",
   "execution_count": 48,
   "id": "f2a173a4-bd36-408f-ac60-a82914a21ad6",
   "metadata": {},
   "outputs": [
    {
     "name": "stdout",
     "output_type": "stream",
     "text": [
      "Number of words: 3\n"
     ]
    }
   ],
   "source": [
    "#count the number of words in string\n",
    "# Define the string\n",
    "s = \"Hello World ajay\"\n",
    "words = s.split()\n",
    "num_words = len(words)\n",
    "print(\"Number of words:\", num_words)\n"
   ]
  },
  {
   "cell_type": "code",
   "execution_count": 49,
   "id": "bcceb809-2834-4857-ba3f-09b5bf28cd02",
   "metadata": {},
   "outputs": [
    {
     "name": "stdout",
     "output_type": "stream",
     "text": [
      "HelloWorld\n"
     ]
    }
   ],
   "source": [
    "#concadinate string without using the + operater\n",
    "# Define the strings to concatenate\n",
    "s1 = \"Hello\"\n",
    "s2 = \"World\"\n",
    "# Concatenate strings using str.join()\n",
    "concatenated_string = \"\".join([s1, s2])\n",
    "print(concatenated_string)\n"
   ]
  },
  {
   "cell_type": "code",
   "execution_count": 50,
   "id": "290e7f23-f5ac-45f8-8716-895b75426f1e",
   "metadata": {},
   "outputs": [
    {
     "name": "stdout",
     "output_type": "stream",
     "text": [
      "[1, 3, 4, 5]\n"
     ]
    }
   ],
   "source": [
    "#remove occurence of specific element from the list\n",
    "# Define the list\n",
    "my_list = [1, 2, 3, 4, 2, 5]\n",
    "element_to_remove = 2\n",
    "while element_to_remove in my_list:\n",
    "    my_list.remove(element_to_remove)\n",
    "print(my_list)\n"
   ]
  },
  {
   "cell_type": "code",
   "execution_count": 51,
   "id": "999d2960-e233-4e6a-b108-e5f0628e9fd3",
   "metadata": {},
   "outputs": [
    {
     "name": "stdout",
     "output_type": "stream",
     "text": [
      "Second largest number: 45\n"
     ]
    }
   ],
   "source": [
    "#second largest number in the given list of integer\n",
    "# Define the list of integers\n",
    "li = [11, 23, 45, 65]\n",
    "\n",
    "# Sort the list in descending order\n",
    "sorted_list = sorted(li, reverse=True)\n",
    "\n",
    "# The second largest number is the second element in the sorted list\n",
    "second_largest = sorted_list[1]\n",
    "\n",
    "# Print the second largest number\n",
    "print(\"Second largest number:\", second_largest)\n"
   ]
  },
  {
   "cell_type": "code",
   "execution_count": 1,
   "id": "6300f099-55c9-4ee7-bf4c-89f91b2a037a",
   "metadata": {},
   "outputs": [
    {
     "name": "stdout",
     "output_type": "stream",
     "text": [
      "{1: 3, 2: 2, 3: 2, 4: 1}\n"
     ]
    }
   ],
   "source": [
    "#Create a code to count the occurrences of each element in a list and return a dictionary with elements as\n",
    "#keys and their counts as values\n",
    "\n",
    "# Example list\n",
    "my_list = [1, 2, 3, 1, 2, 1, 3, 4]\n",
    "\n",
    "# Initialize an empty dictionary to store the counts\n",
    "counts = {}\n",
    "\n",
    "# Iterate over the list\n",
    "for elem in my_list:\n",
    "    # If the element is already in the dictionary, increment its count\n",
    "    if elem in counts:\n",
    "        counts[elem] += 1\n",
    "    # If the element is not in the dictionary, add it with a count of 1\n",
    "    else:\n",
    "        counts[elem] = 1\n",
    "\n",
    "# Print the dictionary containing element counts\n",
    "print(counts)\n"
   ]
  },
  {
   "cell_type": "code",
   "execution_count": 2,
   "id": "68bf6167-fb48-4a6e-a1d3-930e02c169b1",
   "metadata": {},
   "outputs": [
    {
     "name": "stdout",
     "output_type": "stream",
     "text": [
      "Reversed list: [5, 4, 3, 2, 1]\n"
     ]
    }
   ],
   "source": [
    "# Write a code to reverse a list in-place without using any built-in reverse functions\n",
    "# Example list\n",
    "my_list = [1, 2, 3, 4, 5]\n",
    "\n",
    "# Reverse the list using slicing\n",
    "my_list[:] = my_list[::-1]\n",
    "\n",
    "# Print the reversed list\n",
    "print(\"Reversed list:\", my_list)\n"
   ]
  },
  {
   "cell_type": "code",
   "execution_count": 3,
   "id": "80eecc80-b37d-48e4-8b8f-e172c40f7662",
   "metadata": {},
   "outputs": [
    {
     "name": "stdout",
     "output_type": "stream",
     "text": [
      "List with duplicates removed: [1, 2, 3, 4, 5]\n"
     ]
    }
   ],
   "source": [
    "#Implement a code to find and remove duplicates from a list while preserving the original order of \n",
    "#elements\n",
    "\n",
    "# Example list with duplicates\n",
    "my_list = [1, 2, 3, 1, 4, 2, 5]\n",
    "\n",
    "# Initialize an empty list to store unique elements\n",
    "unique_list = []\n",
    "\n",
    "# Initialize a set to keep track of elements seen so far\n",
    "seen = set()\n",
    "\n",
    "# Iterate over the original list\n",
    "for elem in my_list:\n",
    "    # If the element is not in the set, it's unique\n",
    "    if elem not in seen:\n",
    "        # Add the element to the set and unique list\n",
    "        seen.add(elem)\n",
    "        unique_list.append(elem)\n",
    "\n",
    "# Print the list with duplicates removed while preserving the original order\n",
    "print(\"List with duplicates removed:\", unique_list)\n"
   ]
  },
  {
   "cell_type": "code",
   "execution_count": 4,
   "id": "9c811739-a580-468c-b0cf-0fe4682850d0",
   "metadata": {},
   "outputs": [
    {
     "name": "stdout",
     "output_type": "stream",
     "text": [
      "Ascending list: True\n",
      "Descending list: True\n",
      "Sorted\n"
     ]
    }
   ],
   "source": [
    "# Create a code to check if a given list is sorted (either in ascending or descending order) or not\n",
    "# Example lists\n",
    "ascending_list = [1, 2, 3, 4, 5]\n",
    "descending_list = [5, 4, 3, 2, 1]\n",
    "unsorted_list = [3, 1, 5, 2, 4]\n",
    "\n",
    "# Check if the list is sorted in ascending order\n",
    "is_ascending = ascending_list == sorted(ascending_list)\n",
    "print(\"Ascending list:\", is_ascending)\n",
    "\n",
    "# Check if the list is sorted in descending order\n",
    "is_descending = descending_list == sorted(descending_list, reverse=True)\n",
    "print(\"Descending list:\", is_descending)\n",
    "\n",
    "# Check if the list is sorted in either ascending or descending order\n",
    "if is_ascending or is_descending:\n",
    "    print(\"Sorted\")\n",
    "else:\n",
    "    print(\"Not sorted\")\n"
   ]
  },
  {
   "cell_type": "code",
   "execution_count": 5,
   "id": "1a260611-376b-4dc3-82bd-274c89a1313b",
   "metadata": {},
   "outputs": [
    {
     "name": "stdout",
     "output_type": "stream",
     "text": [
      "Merged sorted list: [1, 2, 3, 4, 5, 6, 7, 8]\n"
     ]
    }
   ],
   "source": [
    "#Write a code to merge two sorted lists into a single sorted list\n",
    "# Example sorted lists\n",
    "list1 = [1, 3, 5, 7]\n",
    "list2 = [2, 4, 6, 8]\n",
    "\n",
    "# Initialize an empty list to store the merged sorted list\n",
    "merged_list = []\n",
    "\n",
    "# Initialize indices for list1 and list2\n",
    "i, j = 0, 0\n",
    "\n",
    "# Iterate through both lists simultaneously\n",
    "while i < len(list1) and j < len(list2):\n",
    "    # Compare elements from both lists and append the smaller element to the merged list\n",
    "    if list1[i] <= list2[j]:\n",
    "        merged_list.append(list1[i])\n",
    "        i += 1\n",
    "    else:\n",
    "        merged_list.append(list2[j])\n",
    "        j += 1\n",
    "\n",
    "# Append the remaining elements of the non-empty list to the merged list\n",
    "merged_list.extend(list1[i:])\n",
    "merged_list.extend(list2[j:])\n",
    "\n",
    "# Print the merged sorted list\n",
    "print(\"Merged sorted list:\", merged_list)\n"
   ]
  },
  {
   "cell_type": "code",
   "execution_count": 6,
   "id": "4e7e5278-f429-4a45-a53e-955ca95ef4b1",
   "metadata": {},
   "outputs": [
    {
     "name": "stdout",
     "output_type": "stream",
     "text": [
      "Intersection: [3, 4, 5]\n"
     ]
    }
   ],
   "source": [
    "# Implement a code to find the intersection of two given lists\n",
    "# Example lists\n",
    "list1 = [1, 2, 3, 4, 5]\n",
    "list2 = [3, 4, 5, 6, 7]\n",
    "\n",
    "# Find the intersection of the two lists\n",
    "intersection = list(set(list1).intersection(set(list2)))\n",
    "\n",
    "# Print the intersection\n",
    "print(\"Intersection:\", intersection)\n"
   ]
  },
  {
   "cell_type": "code",
   "execution_count": 7,
   "id": "9a3d93c9-168d-4016-a2aa-9b775da03a72",
   "metadata": {},
   "outputs": [
    {
     "name": "stdout",
     "output_type": "stream",
     "text": [
      "Union: [1, 2, 3, 4, 5, 6, 7]\n"
     ]
    }
   ],
   "source": [
    "# Create a code to find the union of two lists without duplicates\n",
    "# Example lists\n",
    "list1 = [1, 2, 3, 4, 5]\n",
    "list2 = [3, 4, 5, 6, 7]\n",
    "\n",
    "# Find the union of the two lists without duplicates\n",
    "union = list(set(list1).union(set(list2)))\n",
    "\n",
    "# Print the union\n",
    "print(\"Union:\", union)\n"
   ]
  },
  {
   "cell_type": "code",
   "execution_count": 8,
   "id": "ee7bce5e-0acd-4ef6-a9e1-223201b8b036",
   "metadata": {},
   "outputs": [
    {
     "name": "stdout",
     "output_type": "stream",
     "text": [
      "Shuffled list: [1, 4, 2, 3, 5]\n"
     ]
    }
   ],
   "source": [
    "# Write a code to shuffle a given list randomly without using any built-in shuffle functions\n",
    "import random\n",
    "\n",
    "# Example list\n",
    "my_list = [1, 2, 3, 4, 5]\n",
    "\n",
    "# Shuffle the list using Fisher-Yates shuffle algorithm\n",
    "for i in range(len(my_list) - 1, 0, -1):\n",
    "    j = random.randint(0, i)  # Pick a random index between 0 and i\n",
    "    my_list[i], my_list[j] = my_list[j], my_list[i]  # Swap elements\n",
    "\n",
    "# Print the shuffled list\n",
    "print(\"Shuffled list:\", my_list)\n"
   ]
  },
  {
   "cell_type": "code",
   "execution_count": 9,
   "id": "d0478afa-30bd-4d1e-bfbe-37a95e7fbce0",
   "metadata": {},
   "outputs": [
    {
     "name": "stdout",
     "output_type": "stream",
     "text": [
      "Common elements: (4, 5)\n"
     ]
    }
   ],
   "source": [
    "# Write a code that takes two tuples as input and returns a new tuple containing elements that are \n",
    "#common to both input tuples\n",
    "\n",
    "def common_elements(tuple1, tuple2):\n",
    "    # Convert tuples to sets\n",
    "    set1 = set(tuple1)\n",
    "    set2 = set(tuple2)\n",
    "\n",
    "    # Find the intersection of the sets\n",
    "    common_set = set1.intersection(set2)\n",
    "\n",
    "    # Convert the intersection set back to a tuple\n",
    "    common_tuple = tuple(common_set)\n",
    "\n",
    "    return common_tuple\n",
    "\n",
    "# Example tuples\n",
    "tuple1 = (1, 2, 3, 4, 5)\n",
    "tuple2 = (4, 5, 6, 7, 8)\n",
    "\n",
    "# Find common elements between the tuples\n",
    "common_elements_tuple = common_elements(tuple1, tuple2)\n",
    "\n",
    "# Print the tuple containing common elements\n",
    "print(\"Common elements:\", common_elements_tuple)\n"
   ]
  },
  {
   "cell_type": "code",
   "execution_count": 11,
   "id": "650b6afa-d81b-4fdb-80c1-d08cb1f8e98c",
   "metadata": {},
   "outputs": [
    {
     "name": "stdin",
     "output_type": "stream",
     "text": [
      "Enter the first set of integers separated by commas:  1,2,3,4,5,4\n",
      "Enter the second set of integers separated by commas:  1,3,4,5,6\n"
     ]
    },
    {
     "name": "stdout",
     "output_type": "stream",
     "text": [
      "Intersection of the two sets: {1, 3, 4, 5}\n"
     ]
    }
   ],
   "source": [
    "# Create a code that prompts the user to enter two sets of integers separated by commas. Then, print the \n",
    "#intersection of these two sets\n",
    "\n",
    "# Prompt the user to enter two sets of integers separated by commas\n",
    "set1_input = input(\"Enter the first set of integers separated by commas: \")\n",
    "set2_input = input(\"Enter the second set of integers separated by commas: \")\n",
    "\n",
    "# Convert the input strings into sets of integers\n",
    "set1 = set(map(int, set1_input.split(\",\")))\n",
    "set2 = set(map(int, set2_input.split(\",\")))\n",
    "\n",
    "# Find the intersection of the two sets\n",
    "intersection = set1.intersection(set2)\n",
    "\n",
    "# Print the intersection\n",
    "print(\"Intersection of the two sets:\", intersection)\n"
   ]
  },
  {
   "cell_type": "code",
   "execution_count": 12,
   "id": "916b796b-c0ba-4bf4-af09-1cf544100d2f",
   "metadata": {},
   "outputs": [
    {
     "name": "stdout",
     "output_type": "stream",
     "text": [
      "Concatenated tuple: (1, 2, 3, 4, 5, 6)\n"
     ]
    }
   ],
   "source": [
    "# Write a code to concatenate two tuples. The function should take two tuples as input and return a new \n",
    "#tuple containing elements from both input tuples.\n",
    "\n",
    "# Example tuples\n",
    "tuple1 = (1, 2, 3)\n",
    "tuple2 = (4, 5, 6)\n",
    "\n",
    "# Concatenate the tuples\n",
    "concatenated_tuple = tuple1 + tuple2\n",
    "\n",
    "# Print the concatenated tuple\n",
    "print(\"Concatenated tuple:\", concatenated_tuple)\n"
   ]
  },
  {
   "cell_type": "code",
   "execution_count": 13,
   "id": "1e7b2372-9606-4848-bbcc-596178954681",
   "metadata": {},
   "outputs": [
    {
     "name": "stdin",
     "output_type": "stream",
     "text": [
      "Enter elements for the first set separated by spaces:  1 2 3 4 5 6\n",
      "Enter elements for the second set separated by spaces:  2 4 5 3 4 5\n"
     ]
    },
    {
     "name": "stdout",
     "output_type": "stream",
     "text": [
      "Elements present in the first set but not in the second set: {'6', '1'}\n"
     ]
    }
   ],
   "source": [
    "#Develop a code that prompts the user to input two sets of strings. Then, print the elements that are \n",
    "#present in the first set but not in the second set\n",
    "\n",
    "# Prompt the user to input two sets of strings\n",
    "set1 = set(input(\"Enter elements for the first set separated by spaces: \").split())\n",
    "set2 = set(input(\"Enter elements for the second set separated by spaces: \").split())\n",
    "\n",
    "# Find elements present in the first set but not in the second set\n",
    "result = set1 - set2\n",
    "\n",
    "# Print the elements\n",
    "print(\"Elements present in the first set but not in the second set:\", result)\n"
   ]
  },
  {
   "cell_type": "code",
   "execution_count": 14,
   "id": "341e3253-0171-401e-9d05-f2e988834967",
   "metadata": {},
   "outputs": [
    {
     "name": "stdin",
     "output_type": "stream",
     "text": [
      "Enter the start index:  1\n",
      "Enter the end index:  3\n"
     ]
    },
    {
     "name": "stdout",
     "output_type": "stream",
     "text": [
      "Subtuple: (2, 3, 4)\n"
     ]
    }
   ],
   "source": [
    "#Create a code that takes a tuple and two integers as input. The function should return a new tuple \n",
    "#containing elements from the original tuple within the specified range of indices\n",
    "\n",
    "\n",
    "def get_subtuple(original_tuple, start_index, end_index):\n",
    "    # Slice the original tuple to get the subtuple\n",
    "    subtuple = original_tuple[start_index:end_index+1]\n",
    "    \n",
    "    return subtuple\n",
    "\n",
    "# Example tuple\n",
    "original_tuple = (1, 2, 3, 4, 5, 6, 7, 8, 9)\n",
    "\n",
    "# Input start and end indices\n",
    "start_index = int(input(\"Enter the start index: \"))\n",
    "end_index = int(input(\"Enter the end index: \"))\n",
    "\n",
    "# Get the subtuple\n",
    "subtuple = get_subtuple(original_tuple, start_index, end_index)\n",
    "\n",
    "# Print the subtuple\n",
    "print(\"Subtuple:\", subtuple)\n"
   ]
  },
  {
   "cell_type": "code",
   "execution_count": 15,
   "id": "c5a87d0d-cd7f-4068-b2dd-b7343be520f2",
   "metadata": {},
   "outputs": [
    {
     "name": "stdin",
     "output_type": "stream",
     "text": [
      "Enter elements for the first set separated by spaces:  2 3 4 4 6 5\n",
      "Enter elements for the second set separated by spaces:  2 34 5 565\n"
     ]
    },
    {
     "name": "stdout",
     "output_type": "stream",
     "text": [
      "Union of the two sets: {'5', ' ', '6', '3', '2', '4'}\n"
     ]
    }
   ],
   "source": [
    "# Write a code that prompts the user to input two sets of characters. Then, print the union of these two sets\n",
    "# Prompt the user to input two sets of characters\n",
    "set1 = set(input(\"Enter elements for the first set separated by spaces: \"))\n",
    "set2 = set(input(\"Enter elements for the second set separated by spaces: \"))\n",
    "\n",
    "# Find the union of the two sets\n",
    "union_set = set1.union(set2)\n",
    "\n",
    "# Print the union\n",
    "print(\"Union of the two sets:\", union_set)\n"
   ]
  },
  {
   "cell_type": "code",
   "execution_count": 16,
   "id": "72905802-3fda-445b-92c0-80e40244546e",
   "metadata": {},
   "outputs": [
    {
     "name": "stdout",
     "output_type": "stream",
     "text": [
      "Maximum value: 9\n",
      "Minimum value: 1\n"
     ]
    }
   ],
   "source": [
    "# Develop a code that takes a tuple of integers as input. The function should return the maximum and \n",
    "#minimum values from the tuple using tuple unpacking\n",
    "\n",
    "def find_max_min(input_tuple):\n",
    "    # Use tuple unpacking to find the maximum and minimum values\n",
    "    max_value = max(input_tuple)\n",
    "    min_value = min(input_tuple)\n",
    "    \n",
    "    return max_value, min_value\n",
    "\n",
    "# Example tuple\n",
    "input_tuple = (5, 3, 8, 1, 9, 2)\n",
    "\n",
    "# Get the maximum and minimum values\n",
    "max_value, min_value = find_max_min(input_tuple)\n",
    "\n",
    "# Print the maximum and minimum values\n",
    "print(\"Maximum value:\", max_value)\n",
    "print(\"Minimum value:\", min_value)\n"
   ]
  },
  {
   "cell_type": "code",
   "execution_count": 17,
   "id": "5f1c02e0-80a5-4757-af35-bc5aa89a8d39",
   "metadata": {},
   "outputs": [
    {
     "name": "stdout",
     "output_type": "stream",
     "text": [
      "Union: {1, 2, 3, 4, 5, 6, 7, 8}\n",
      "Intersection: {4, 5}\n",
      "Difference of set1 - set2: {1, 2, 3}\n",
      "Difference of set2 - set1: {8, 6, 7}\n"
     ]
    }
   ],
   "source": [
    "#reate a code that defines two sets of integers. Then, print the union, intersection, and difference of these \n",
    "#two sets\n",
    "\n",
    "# Define two sets of integers\n",
    "set1 = {1, 2, 3, 4, 5}\n",
    "set2 = {4, 5, 6, 7, 8}\n",
    "\n",
    "# Print the union of the two sets\n",
    "print(\"Union:\", set1.union(set2))\n",
    "\n",
    "# Print the intersection of the two sets\n",
    "print(\"Intersection:\", set1.intersection(set2))\n",
    "\n",
    "# Print the difference of set1 - set2\n",
    "print(\"Difference of set1 - set2:\", set1 - set2)\n",
    "\n",
    "# Print the difference of set2 - set1\n",
    "print(\"Difference of set2 - set1:\", set2 - set1)\n"
   ]
  },
  {
   "cell_type": "code",
   "execution_count": 18,
   "id": "7252cdd5-70a9-4f33-880f-2a580a06a919",
   "metadata": {},
   "outputs": [
    {
     "name": "stdin",
     "output_type": "stream",
     "text": [
      "Enter the element to count occurrences:  2\n"
     ]
    },
    {
     "name": "stdout",
     "output_type": "stream",
     "text": [
      "Occurrences of 2 in the tuple: 2\n"
     ]
    }
   ],
   "source": [
    "# Write a code that takes a tuple and an element as input. The function should return the count of \n",
    "#occurrences of the given element in the tuple\n",
    "\n",
    "def count_occurrences(input_tuple, element):\n",
    "    # Count occurrences of the element in the tuple\n",
    "    occurrences = input_tuple.count(element)\n",
    "    return occurrences\n",
    "\n",
    "# Example tuple\n",
    "input_tuple = (1, 2, 3, 4, 1, 2, 1)\n",
    "\n",
    "# Input element to count occurrences\n",
    "element = int(input(\"Enter the element to count occurrences: \"))\n",
    "\n",
    "# Get the count of occurrences\n",
    "occurrences = count_occurrences(input_tuple, element)\n",
    "\n",
    "# Print the count of occurrences\n",
    "print(\"Occurrences of\", element, \"in the tuple:\", occurrences)\n",
    "\n"
   ]
  },
  {
   "cell_type": "code",
   "execution_count": null,
   "id": "6b69e939-1f69-41b9-a891-8afd4f749e42",
   "metadata": {},
   "outputs": [
    {
     "name": "stdin",
     "output_type": "stream",
     "text": [
      "Enter elements for the first set separated by spaces:  2\n"
     ]
    }
   ],
   "source": [
    "# Develop a code that prompts the user to input two sets of strings. Then, print the symmetric difference of \n",
    "#these two sets\n",
    "\n",
    "# Prompt the user to input two sets of strings\n",
    "set1 = set(input(\"Enter elements for the first set separated by spaces: \").split())\n",
    "set2 = set(input(\"Enter elements for the second set separated by spaces: \").split())\n",
    "\n",
    "# Find the symmetric difference of the two sets\n",
    "symmetric_difference = set1.symmetric_difference(set2)\n",
    "\n",
    "# Print the symmetric difference\n",
    "print(\"Symmetric difference of the two sets:\", symmetric_difference)\n",
    "\n"
   ]
  },
  {
   "cell_type": "code",
   "execution_count": null,
   "id": "2385eaa7-c7b6-4adc-a26b-3e5acec0bf24",
   "metadata": {},
   "outputs": [],
   "source": [
    "# Write a code that takes a list of words as input and returns a dictionary where the keys are unique words \n",
    "#and the values are the frequencies of those words in the input list\n",
    "\n",
    "def word_frequency(words):\n",
    "    # Initialize an empty dictionary to store word frequencies\n",
    "    freq_dict = {}\n",
    "\n",
    "    # Iterate over the list of words\n",
    "    for word in words:\n",
    "        # If the word is already in the dictionary, increment its count\n",
    "        if word in freq_dict:\n",
    "            freq_dict[word] += 1\n",
    "        # If the word is not in the dictionary, add it with a count of 1\n",
    "        else:\n",
    "            freq_dict[word] = 1\n",
    "    \n",
    "    return freq_dict\n",
    "\n",
    "# Example list of words\n",
    "word_list = [\"apple\", \"banana\", \"apple\", \"orange\", \"banana\", \"apple\", \"pear\"]\n",
    "\n",
    "# Get the word frequencies\n",
    "word_freq_dict = word_frequency(word_list)\n",
    "\n",
    "# Print the dictionary\n",
    "print(\"Word frequencies:\", word_freq_dict)\n"
   ]
  },
  {
   "cell_type": "code",
   "execution_count": null,
   "id": "95a7df05-a380-4724-9f4d-8ed86c072d85",
   "metadata": {},
   "outputs": [],
   "source": [
    "# Write a code that takes two dictionaries as input and merges them into a single dictionary. If there are \n",
    "#common keys, the values should be added together\n",
    "\n",
    "\n",
    "def merge_dictionaries(dict1, dict2):\n",
    "    # Initialize an empty dictionary to store the merged result\n",
    "    merged_dict = {}\n",
    "\n",
    "    # Iterate over keys in dict1\n",
    "    for key, value in dict1.items():\n",
    "        # If the key is already in merged_dict, add the values together\n",
    "        if key in merged_dict:\n",
    "            merged_dict[key] += value\n",
    "        # If the key is not in merged_dict, simply add it\n",
    "        else:\n",
    "            merged_dict[key] = value\n",
    "\n",
    "    # Iterate over keys in dict2\n",
    "    for key, value in dict2.items():\n",
    "        # If the key is already in merged_dict, add the values together\n",
    "        if key in merged_dict:\n",
    "            merged_dict[key] += value\n",
    "        # If the key is not in merged_dict, simply add it\n",
    "        else:\n",
    "            merged_dict[key] = value\n",
    "\n",
    "    return merged_dict\n",
    "\n",
    "# Example dictionaries\n",
    "dict1 = {'a': 1, 'b': 2, 'c': 3}\n",
    "dict2 = {'b': 5, 'c': 4, 'd': 6}\n",
    "\n",
    "# Merge the dictionaries\n",
    "merged_dictionary = merge_dictionaries(dict1, dict2)\n",
    "\n",
    "# Print the merged dictionary\n",
    "print(\"Merged dictionary:\", merged_dictionary)\n"
   ]
  },
  {
   "cell_type": "code",
   "execution_count": null,
   "id": "b777ad1f-7391-4828-8add-846ff405aeac",
   "metadata": {},
   "outputs": [],
   "source": [
    "#Write a code to access a value in a nested dictionary. The function should take the dictionary and a list of \n",
    "#keys as input, and return the corresponding value. If any of the keys do not exist in the dictionary, the \n",
    "#function should return None\n",
    "def access_nested_dict(nested_dict, keys):\n",
    "    # Initialize a variable to store the current level of the nested dictionary\n",
    "    current_dict = nested_dict\n",
    "    \n",
    "    # Iterate over each key in the list of keys\n",
    "    for key in keys:\n",
    "        try:\n",
    "            # Update the current level of the nested dictionary\n",
    "            current_dict = current_dict[key]\n",
    "        except KeyError:\n",
    "            # If the key does not exist, return None\n",
    "            return None\n",
    "    \n",
    "    # Return the value corresponding to the final level of the nested dictionary\n",
    "    return current_dict\n",
    "\n",
    "# Example nested dictionary\n",
    "nested_dict = {\n",
    "    'a': {\n",
    "        'b': {\n",
    "            'c': 1,\n",
    "            'd': 2\n",
    "        },\n",
    "        'e': {\n",
    "            'f': 3,\n",
    "            'g': 4\n",
    "        }\n",
    "    },\n",
    "    'h': {\n",
    "        'i': {\n",
    "            'j': 5,\n",
    "            'k': 6\n",
    "        }\n",
    "    }\n",
    "}\n",
    "\n",
    "# Example list of keys\n",
    "keys = ['a', 'b', 'c']\n",
    "\n",
    "# Access the value in the nested dictionary\n",
    "value = access_nested_dict(nested_dict, keys)\n",
    "\n",
    "# Print the value\n",
    "print(\"Value:\", value)\n",
    "\n"
   ]
  },
  {
   "cell_type": "code",
   "execution_count": null,
   "id": "b518b623-c4d7-4a4a-ac89-8a4f16e7c7d2",
   "metadata": {},
   "outputs": [],
   "source": [
    "#Write a code that takes a dictionary as input and returns a sorted version of it based on the values. You \n",
    "#can choose whether to sort in ascending or descending order\n",
    "\n",
    "\n",
    "def sort_dict_by_values(input_dict, ascending=True):\n",
    "    sorted_dict = dict(sorted(input_dict.items(), key=lambda item: item[1], reverse=not ascending))\n",
    "    return sorted_dict\n",
    "\n",
    "# Example dictionary\n",
    "example_dict = {'a': 3, 'b': 1, 'c': 2}\n",
    "\n",
    "# Sorting in ascending order\n",
    "sorted_dict_asc = sort_dict_by_values(example_dict, ascending=True)\n",
    "print(\"Sorted Dictionary (Ascending):\", sorted_dict_asc)\n",
    "\n",
    "# Sorting in descending order\n",
    "sorted_dict_desc = sort_dict_by_values(example_dict, ascending=False)\n",
    "print(\"Sorted Dictionary (Descending):\", sorted_dict_desc)\n"
   ]
  },
  {
   "cell_type": "code",
   "execution_count": null,
   "id": "79ac7713-0ce5-449c-884e-fbaa1c225044",
   "metadata": {},
   "outputs": [],
   "source": [
    "#Write a code that inverts a dictionary, swapping keys and values. Ensure that the inverted dictionary \n",
    "#correctly handles cases where multiple keys have the same value by storing the keys as a list in the \n",
    "#inverted dictionary.\n",
    "\n",
    "\n",
    "def invert_dict(input_dict):\n",
    "    inverted_dict = {}\n",
    "    for key, value in input_dict.items():\n",
    "        if value not in inverted_dict:\n",
    "            inverted_dict[value] = [key]\n",
    "        else:\n",
    "            inverted_dict[value].append(key)\n",
    "    return inverted_dict\n",
    "\n",
    "# Example dictionary\n",
    "example_dict = {'a': 1, 'b': 2, 'c': 1}\n",
    "\n",
    "# Invert the dictionary\n",
    "inverted_dict = invert_dict(example_dict)\n",
    "print(\"Inverted Dictionary:\", inverted_dict)\n"
   ]
  },
  {
   "cell_type": "code",
   "execution_count": null,
   "id": "09550c47-1c91-4f79-ae6c-7861101d8824",
   "metadata": {},
   "outputs": [],
   "source": [
    "## there were question in which i have taken the help of online sources"
   ]
  },
  {
   "cell_type": "code",
   "execution_count": null,
   "id": "a4d284b7-544c-4e52-8106-11dfe174b7d8",
   "metadata": {},
   "outputs": [],
   "source": []
  }
 ],
 "metadata": {
  "kernelspec": {
   "display_name": "Python 3 (ipykernel)",
   "language": "python",
   "name": "python3"
  },
  "language_info": {
   "codemirror_mode": {
    "name": "ipython",
    "version": 3
   },
   "file_extension": ".py",
   "mimetype": "text/x-python",
   "name": "python",
   "nbconvert_exporter": "python",
   "pygments_lexer": "ipython3",
   "version": "3.10.8"
  }
 },
 "nbformat": 4,
 "nbformat_minor": 5
}
